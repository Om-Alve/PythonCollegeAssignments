{
 "cells": [
  {
   "cell_type": "code",
   "execution_count": 1,
   "id": "448524a4-60f0-4085-82bd-ef55eb1249ee",
   "metadata": {
    "tags": []
   },
   "outputs": [],
   "source": [
    "import numpy as np"
   ]
  },
  {
   "cell_type": "code",
   "execution_count": 2,
   "id": "940fa1f9-ce4d-4993-9f08-c15da577a660",
   "metadata": {
    "tags": []
   },
   "outputs": [],
   "source": [
    "survey_data = np.array([4,5,3,2,5,3,4,4,3,5,5,2,4,4,3,2,3,4,3,4,4,4,5,5,2])"
   ]
  },
  {
   "cell_type": "code",
   "execution_count": 11,
   "id": "64216b64-b0d7-45bd-931c-b9ec273fe16d",
   "metadata": {
    "tags": []
   },
   "outputs": [
    {
     "data": {
      "text/plain": [
       "array([[4, 5, 3, 2, 5],\n",
       "       [3, 4, 4, 3, 5],\n",
       "       [5, 2, 4, 4, 3],\n",
       "       [2, 3, 4, 3, 4],\n",
       "       [4, 4, 5, 5, 2]])"
      ]
     },
     "execution_count": 11,
     "metadata": {},
     "output_type": "execute_result"
    }
   ],
   "source": [
    "survey_data = survey_data.reshape((5,5))\n",
    "survey_data"
   ]
  },
  {
   "cell_type": "code",
   "execution_count": 12,
   "id": "b5cfe5bc-29aa-4eae-b385-f6f287a18977",
   "metadata": {
    "tags": []
   },
   "outputs": [],
   "source": [
    "avgs = np.mean(survey_data,axis=1)"
   ]
  },
  {
   "cell_type": "code",
   "execution_count": 14,
   "id": "370a7609-980c-4d27-a93c-0f597de646ce",
   "metadata": {
    "tags": []
   },
   "outputs": [
    {
     "name": "stdout",
     "output_type": "stream",
     "text": [
      "The question with Highest response average is  5\n"
     ]
    }
   ],
   "source": [
    "print(\"The question with Highest response average is \",np.argmax(avgs)+1)"
   ]
  },
  {
   "cell_type": "code",
   "execution_count": 16,
   "id": "8d118ffd-5de5-404e-8446-de709d53b486",
   "metadata": {
    "tags": []
   },
   "outputs": [
    {
     "name": "stdout",
     "output_type": "stream",
     "text": [
      "The question with the Lowest response average is  4\n"
     ]
    }
   ],
   "source": [
    "print(\"The question with the Lowest response average is \",np.argmin(avgs)+1)"
   ]
  },
  {
   "cell_type": "code",
   "execution_count": 23,
   "id": "726244bc-1aae-46ce-83b5-2a600a52a091",
   "metadata": {
    "tags": []
   },
   "outputs": [
    {
     "data": {
      "text/plain": [
       "array([[ 5000.,  6000.,  7500.,  9000.,  8500., 10000.],\n",
       "       [ 4500.,  5500.,  7000.,  8000.,  9200., 11000.],\n",
       "       [ 3000.,  4000.,  5000.,  5500.,  6000.,  7000.]])"
      ]
     },
     "execution_count": 23,
     "metadata": {},
     "output_type": "execute_result"
    }
   ],
   "source": [
    "sales = np.array([5,6,7.5,9,8.5,10,4.5,5.5,7,8,9.2,11,3,4,5,5.5,6,7]).reshape(3,6)\n",
    "sales = sales * 1000\n",
    "prods = ['a','b','c']\n",
    "sales"
   ]
  },
  {
   "cell_type": "code",
   "execution_count": 19,
   "id": "07912167-37a6-4518-9ec5-edba7ab0cc10",
   "metadata": {
    "tags": []
   },
   "outputs": [
    {
     "name": "stdout",
     "output_type": "stream",
     "text": [
      "The total sales for product a  is 46000.0\n",
      "The total sales for product b  is 45200.0\n",
      "The total sales for product c  is 30500.0\n"
     ]
    }
   ],
   "source": [
    "total_sales = np.sum(sales,axis=1)\n",
    "for i in range(3):\n",
    "    print(\"The total sales for product\",prods[i],\" is\",total_sales[i])"
   ]
  },
  {
   "cell_type": "code",
   "execution_count": 21,
   "id": "803ff86d-611e-465d-8ed9-64a36a357ff4",
   "metadata": {
    "tags": []
   },
   "outputs": [],
   "source": [
    "months = [\"January\",\"February\",\"March\",\"April\",\"June\",\"July\"]"
   ]
  },
  {
   "cell_type": "code",
   "execution_count": 27,
   "id": "f9383b0b-9979-4867-b803-f3d76d98019f",
   "metadata": {
    "tags": []
   },
   "outputs": [
    {
     "name": "stdout",
     "output_type": "stream",
     "text": [
      "Product a is July\n",
      "Product b is July\n",
      "Product c is July\n"
     ]
    }
   ],
   "source": [
    "for i in range(3):\n",
    "    print(f\"Product {prods[i]} is {months[np.argmax(sales,axis=1)[i]]}\")\n"
   ]
  },
  {
   "cell_type": "code",
   "execution_count": 28,
   "id": "8cdec47b-2022-4e00-93ba-872419834f1f",
   "metadata": {
    "tags": []
   },
   "outputs": [],
   "source": [
    "profits = np.array([2,2.5,3,3.5,4,4.5,1.8,2.3,2.8,3.2,3.8,4.2,1.2,1.6,1.9,2.2,2.4,2.8]).reshape(3,6)"
   ]
  }
 ],
 "metadata": {
  "kernelspec": {
   "display_name": "Python 3 (ipykernel)",
   "language": "python",
   "name": "python3"
  },
  "language_info": {
   "codemirror_mode": {
    "name": "ipython",
    "version": 3
   },
   "file_extension": ".py",
   "mimetype": "text/x-python",
   "name": "python",
   "nbconvert_exporter": "python",
   "pygments_lexer": "ipython3",
   "version": "3.11.4"
  }
 },
 "nbformat": 4,
 "nbformat_minor": 5
}
