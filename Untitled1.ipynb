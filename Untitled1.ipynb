{
 "cells": [
  {
   "cell_type": "code",
   "execution_count": 4,
   "id": "03fb13c4-978a-40c5-8d36-89c18d615129",
   "metadata": {
    "tags": []
   },
   "outputs": [],
   "source": [
    "class Car:\n",
    "    def __init__(self,make,model,year):\n",
    "        self.make = make\n",
    "        self.model = model\n",
    "        self.year = year\n",
    "    def start_engine(self):\n",
    "        print(\"Engine has started.\")\n",
    "    def stop_engine(self):\n",
    "        print(\"Engine has stopped\")\n",
    "    "
   ]
  },
  {
   "cell_type": "code",
   "execution_count": 10,
   "id": "91ebba7c-3038-45c0-bfa4-6b9b7e98e017",
   "metadata": {
    "tags": []
   },
   "outputs": [],
   "source": [
    "car1 = Car(\"Honda\",\"Civic\",\"2012\")\n",
    "car2 = Car(\"Buggati\",\"Veyron\",\"2020\")"
   ]
  },
  {
   "cell_type": "code",
   "execution_count": 11,
   "id": "9ef0984d-31b9-4e18-8068-d453c19336f4",
   "metadata": {
    "tags": []
   },
   "outputs": [
    {
     "name": "stdout",
     "output_type": "stream",
     "text": [
      "Engine has started.\n"
     ]
    }
   ],
   "source": [
    "car1.start_engine()"
   ]
  },
  {
   "cell_type": "code",
   "execution_count": 12,
   "id": "d4075174-c521-4fd6-954c-f6fad5e3c4ce",
   "metadata": {
    "tags": []
   },
   "outputs": [
    {
     "name": "stdout",
     "output_type": "stream",
     "text": [
      "Engine has stopped\n"
     ]
    }
   ],
   "source": [
    "car2.stop_engine()"
   ]
  },
  {
   "cell_type": "code",
   "execution_count": 24,
   "id": "32dac649-0988-4581-8705-948c5a600065",
   "metadata": {
    "tags": []
   },
   "outputs": [],
   "source": [
    "class Shape:\n",
    "    def __init__(self,color):\n",
    "        self.color = color\n",
    "    def area(self):\n",
    "        pass"
   ]
  },
  {
   "cell_type": "code",
   "execution_count": 33,
   "id": "cbe7b9b9-56dd-491a-a82a-4d2eb57e8e16",
   "metadata": {
    "tags": []
   },
   "outputs": [],
   "source": [
    "class Circle(Shape):\n",
    "    def __init__(self,radius,color):\n",
    "        self.radius = radius\n",
    "        Shape.__init__(self,color)\n",
    "    def area(self):\n",
    "        return 3.14 * self.radius * self.radius"
   ]
  },
  {
   "cell_type": "code",
   "execution_count": 34,
   "id": "bcc3b7f6-413b-4024-97a2-b8ef0d8ff967",
   "metadata": {
    "tags": []
   },
   "outputs": [],
   "source": [
    "c = Circle(1,\"RED\")"
   ]
  },
  {
   "cell_type": "code",
   "execution_count": 35,
   "id": "6456231f-72db-4366-9d6f-dde420edf1ee",
   "metadata": {
    "tags": []
   },
   "outputs": [
    {
     "data": {
      "text/plain": [
       "3.14"
      ]
     },
     "execution_count": 35,
     "metadata": {},
     "output_type": "execute_result"
    }
   ],
   "source": [
    "c.area()"
   ]
  },
  {
   "cell_type": "code",
   "execution_count": 38,
   "id": "f07a1b82-73a9-460a-92fd-f9edc6e95a4b",
   "metadata": {
    "tags": []
   },
   "outputs": [],
   "source": [
    "class Rectangle(Shape):\n",
    "    def __init__(self,length,breadth,color):\n",
    "        self.length = length\n",
    "        self.breadth = breadth\n",
    "        Shape.__init__(self,color)\n",
    "    def area(self):\n",
    "        return self.length * self.breadth"
   ]
  },
  {
   "cell_type": "code",
   "execution_count": 39,
   "id": "112b8a84-683e-48a2-b306-34bc3afecf9d",
   "metadata": {
    "tags": []
   },
   "outputs": [],
   "source": [
    "rect = Rectangle(2,3,\"RED\")"
   ]
  },
  {
   "cell_type": "code",
   "execution_count": 40,
   "id": "47eb9158-ceb1-41ec-a25d-c8b3806400e2",
   "metadata": {
    "tags": []
   },
   "outputs": [
    {
     "data": {
      "text/plain": [
       "6"
      ]
     },
     "execution_count": 40,
     "metadata": {},
     "output_type": "execute_result"
    }
   ],
   "source": [
    "rect.area()"
   ]
  },
  {
   "cell_type": "code",
   "execution_count": 1,
   "id": "86c8205f-91ce-41ce-88fb-1ee9e1402825",
   "metadata": {},
   "outputs": [],
   "source": [
    "class Person:\n",
    "    def __init__(self,name,age):\n",
    "        self._name_= name\n",
    "        self._age_=age\n",
    "    def set_name(self,name):\n",
    "        self._name_ = name\n",
    "    def get_name(self):\n",
    "        return self._name_\n",
    "    def set_age(self,age):\n",
    "        self._age_ = age\n",
    "    def get_age(self):\n",
    "        return self._age_"
   ]
  },
  {
   "cell_type": "code",
   "execution_count": 2,
   "id": "ada39a3c-ef6d-4183-bb50-c2ada43c9b1c",
   "metadata": {
    "tags": []
   },
   "outputs": [],
   "source": [
    "om = Person(\"om\",17)"
   ]
  },
  {
   "cell_type": "code",
   "execution_count": 4,
   "id": "167625cf-1709-4a40-aa56-97afc026a1ff",
   "metadata": {
    "tags": []
   },
   "outputs": [
    {
     "data": {
      "text/plain": [
       "('om', 17)"
      ]
     },
     "execution_count": 4,
     "metadata": {},
     "output_type": "execute_result"
    }
   ],
   "source": [
    "om.get_name(),om.get_age()"
   ]
  },
  {
   "cell_type": "code",
   "execution_count": 5,
   "id": "631effb6-5410-4256-88d5-0cc9e8ffbab7",
   "metadata": {
    "tags": []
   },
   "outputs": [],
   "source": [
    "om.set_name('Om Alve')\n",
    "om.set_age(18)"
   ]
  },
  {
   "cell_type": "code",
   "execution_count": 6,
   "id": "633c09c9-b120-4120-926e-7af423ca3aeb",
   "metadata": {
    "tags": []
   },
   "outputs": [
    {
     "data": {
      "text/plain": [
       "('Om Alve', 18)"
      ]
     },
     "execution_count": 6,
     "metadata": {},
     "output_type": "execute_result"
    }
   ],
   "source": [
    "om.get_name(),om.get_age()"
   ]
  },
  {
   "cell_type": "code",
   "execution_count": null,
   "id": "ab3c1265-d6d3-4fce-9e6f-37dadf8f367a",
   "metadata": {},
   "outputs": [],
   "source": []
  }
 ],
 "metadata": {
  "kernelspec": {
   "display_name": "Python 3 (ipykernel)",
   "language": "python",
   "name": "python3"
  },
  "language_info": {
   "codemirror_mode": {
    "name": "ipython",
    "version": 3
   },
   "file_extension": ".py",
   "mimetype": "text/x-python",
   "name": "python",
   "nbconvert_exporter": "python",
   "pygments_lexer": "ipython3",
   "version": "3.9.18"
  }
 },
 "nbformat": 4,
 "nbformat_minor": 5
}
