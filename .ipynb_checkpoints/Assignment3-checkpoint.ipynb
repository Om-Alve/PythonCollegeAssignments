{
 "cells": [
  {
   "cell_type": "code",
   "execution_count": 202,
   "id": "19c97f68-c215-4efa-a2ac-4ec5d0adc76d",
   "metadata": {
    "tags": []
   },
   "outputs": [],
   "source": [
    "import warnings\n",
    "warnings.filterwarnings('ignore')"
   ]
  },
  {
   "cell_type": "code",
   "execution_count": 165,
   "id": "8ff066eb-1336-4209-a7bd-94e6366ba71b",
   "metadata": {
    "tags": []
   },
   "outputs": [],
   "source": [
    "students = []\n",
    "grades = []"
   ]
  },
  {
   "cell_type": "code",
   "execution_count": 174,
   "id": "6ce45583-8a46-44f8-8fe4-fec4292fb421",
   "metadata": {
    "tags": []
   },
   "outputs": [
    {
     "name": "stdin",
     "output_type": "stream",
     "text": [
      "Enter the name of the student:  Rahul\n",
      "Enter the grade of the students:  80\n",
      "Enter the name of the student:  Simran\n",
      "Enter the grade of the students:  82\n",
      "Enter the name of the student:  Jonathan\n",
      "Enter the grade of the students:  33\n"
     ]
    }
   ],
   "source": [
    "# 3 students names and grades\n",
    "# for each student take their name and grade as input\n",
    "for i in range(3):\n",
    "    name = input(\"Enter the name of the student: \")\n",
    "    grade = int(input(\"Enter the grade of the students: \"))\n",
    "    if grade >= 0 and grade <=100:\n",
    "        students.append(name)\n",
    "        grades.append(grade)\n",
    "    else:\n",
    "        print(\"Enter valid Grade!\")"
   ]
  },
  {
   "cell_type": "code",
   "execution_count": 204,
   "id": "3f5be77c-2812-43f8-bced-6f2119b60475",
   "metadata": {
    "tags": []
   },
   "outputs": [
    {
     "name": "stdout",
     "output_type": "stream",
     "text": [
      "['Bruce' 'Sahil' 'Barry' 'Charles' 'Alex' 'Natasha' 'Wanda' 'Lily'\n",
      " 'Ronald' 'Sasha' 'Charlie' 'Lex' 'Mark' 'Elon' 'Jeff' 'Steve' 'Joe'\n",
      " 'Mitchell' 'Rahul' 'Simran' 'Jonathan']\n",
      "[98 94 96 84 89 97 90 68 65 67 56 49 66 99 40 30 18 38 80 82 33]\n"
     ]
    }
   ],
   "source": [
    "print(students)\n",
    "print(grades)"
   ]
  },
  {
   "cell_type": "code",
   "execution_count": 176,
   "id": "2df9a594-0e31-4873-89c7-434a553c5bcd",
   "metadata": {
    "tags": []
   },
   "outputs": [],
   "source": [
    "import numpy as np"
   ]
  },
  {
   "cell_type": "code",
   "execution_count": 177,
   "id": "7e5886eb-a62c-4465-a27f-1aa711c8ac43",
   "metadata": {
    "tags": []
   },
   "outputs": [],
   "source": [
    "students = np.array(students)\n",
    "grades = np.array(grades)"
   ]
  },
  {
   "cell_type": "code",
   "execution_count": 178,
   "id": "66b1ae93-bddf-49bc-8eff-a8e51c175d70",
   "metadata": {
    "tags": []
   },
   "outputs": [
    {
     "name": "stdout",
     "output_type": "stream",
     "text": [
      "Mean grade is 68.52380952380952\n"
     ]
    }
   ],
   "source": [
    "meangrade = np.mean(grades)\n",
    "print(f\"Mean grade is {meangrade}\")"
   ]
  },
  {
   "cell_type": "code",
   "execution_count": 179,
   "id": "6cab5d7f-7f42-4a4c-8332-06f1f18d0a4e",
   "metadata": {
    "tags": []
   },
   "outputs": [
    {
     "name": "stdout",
     "output_type": "stream",
     "text": [
      "The student with the highest grade is Elon with grade 99\n"
     ]
    }
   ],
   "source": [
    "maxi = np.argmax(grades)\n",
    "print(f\"The student with the highest grade is {students[maxi]} with grade {grades[maxi]}\")"
   ]
  },
  {
   "cell_type": "code",
   "execution_count": 180,
   "id": "f7988433-32e7-45c8-9758-a408adba4c08",
   "metadata": {
    "tags": []
   },
   "outputs": [
    {
     "name": "stdout",
     "output_type": "stream",
     "text": [
      "The student with the lowest grade is Joe with grade 18\n"
     ]
    }
   ],
   "source": [
    "mini = np.argmin(grades)\n",
    "print(f\"The student with the lowest grade is {students[mini]} with grade {grades[mini]}\")"
   ]
  },
  {
   "cell_type": "code",
   "execution_count": 181,
   "id": "294402a1-7088-43f7-b305-3a4f5d76153a",
   "metadata": {
    "tags": []
   },
   "outputs": [],
   "source": [
    "excellent = students[grades > 90]\n",
    "good = students[(grades >= 70) & (grades <= 89)]\n",
    "average = students[(grades>= 50) & (grades < 70)]\n",
    "needs_improvement = students[(grades < 50)]"
   ]
  },
  {
   "cell_type": "code",
   "execution_count": 182,
   "id": "3971516b-52df-462e-b1f5-81ec81e39995",
   "metadata": {
    "tags": []
   },
   "outputs": [
    {
     "name": "stdout",
     "output_type": "stream",
     "text": [
      "['Bruce' 'Sahil' 'Barry' 'Natasha' 'Elon']\n",
      "['Charles' 'Alex' 'Rahul' 'Simran']\n",
      "['Lily' 'Ronald' 'Sasha' 'Charlie' 'Mark']\n",
      "['Lex' 'Jeff' 'Steve' 'Joe' 'Mitchell' 'Jonathan']\n"
     ]
    }
   ],
   "source": [
    "print(excellent)\n",
    "print(good)\n",
    "print(average)\n",
    "print(needs_improvement)"
   ]
  },
  {
   "cell_type": "code",
   "execution_count": 205,
   "id": "e633c7cf-a119-4170-bbc8-6cc218cbea2a",
   "metadata": {
    "tags": []
   },
   "outputs": [
    {
     "name": "stdout",
     "output_type": "stream",
     "text": [
      "----------------------------------------------------------------------------------------------------\n",
      "Category\t\tNo. of students\t\t Students\n",
      "----------------------------------------------------------------------------------------------------\n",
      "Excellent\t\t5\t\t\t ['Bruce' 'Sahil' 'Barry' 'Natasha' 'Elon']\n",
      "----------------------------------------------------------------------------------------------------\n",
      "Good\t\t\t4\t\t\t ['Charles' 'Alex' 'Rahul' 'Simran']\n",
      "----------------------------------------------------------------------------------------------------\n",
      "Average\t\t\t5\t\t\t ['Lily' 'Ronald' 'Sasha' 'Charlie' 'Mark']\n",
      "----------------------------------------------------------------------------------------------------\n",
      "Needs_improvement\t6\t\t\t ['Lex' 'Jeff' 'Steve' 'Joe' 'Mitchell' 'Jonathan']\n",
      "----------------------------------------------------------------------------------------------------\n"
     ]
    }
   ],
   "source": [
    "print(\"-\"*100)\n",
    "print(\"Category\\t\\tNo. of students\\t\\t Students\")\n",
    "print(\"-\"*100)\n",
    "print(f\"Excellent\\t\\t{len(excellent)}\\t\\t\\t {excellent}\")\n",
    "print(\"-\"*100)\n",
    "print(f\"Good\\t\\t\\t{len(good)}\\t\\t\\t {good}\")\n",
    "print(\"-\"*100)\n",
    "print(f\"Average\\t\\t\\t{len(average)}\\t\\t\\t {average}\")\n",
    "print(\"-\"*100)\n",
    "print(f\"Needs_improvement\\t{len(needs_improvement)}\\t\\t\\t {needs_improvement}\")\n",
    "print(\"-\"*100)"
   ]
  },
  {
   "cell_type": "code",
   "execution_count": 227,
   "id": "40ce1969-5a68-4d97-a413-95a0e4952a22",
   "metadata": {
    "tags": []
   },
   "outputs": [],
   "source": [
    "# Sorting according to grade\n",
    "n = len(grades)\n",
    "for i in range(n - 1):\n",
    "    swapped = False\n",
    "    for j in range(0, n - i - 1):\n",
    "        if grades[j] < grades[j + 1]:\n",
    "            grades[j], grades[j + 1] = grades[j + 1], grades[j]\n",
    "            students[j], students[j + 1] = students[j + 1], students[j]\n",
    "            swapped = True\n",
    "    if not swapped:\n",
    "        break"
   ]
  },
  {
   "cell_type": "code",
   "execution_count": 233,
   "id": "2cdb6e0b-86a7-4f5c-8bca-c4e7750efac1",
   "metadata": {
    "tags": []
   },
   "outputs": [
    {
     "name": "stdout",
     "output_type": "stream",
     "text": [
      "['Elon' 'Bruce' 'Natasha' 'Barry' 'Sahil' 'Wanda' 'Alex' 'Charles'\n",
      " 'Simran' 'Rahul' 'Lily' 'Sasha' 'Mark' 'Ronald' 'Charlie' 'Lex' 'Jeff'\n",
      " 'Mitchell' 'Jonathan' 'Steve' 'Joe']\n",
      "[99 98 97 96 94 90 89 84 82 80 68 67 66 65 56 49 40 38 33 30 18]\n"
     ]
    }
   ],
   "source": [
    "print(students)\n",
    "print(grades)"
   ]
  },
  {
   "cell_type": "markdown",
   "id": "406458d6-9b3f-430b-aae2-c686e8b62469",
   "metadata": {},
   "source": [
    "## Visualisation"
   ]
  },
  {
   "cell_type": "code",
   "execution_count": 216,
   "id": "03939659-a677-45a7-b25f-a79c04640371",
   "metadata": {
    "tags": []
   },
   "outputs": [],
   "source": [
    "import matplotlib.pyplot as plt"
   ]
  },
  {
   "cell_type": "code",
   "execution_count": 229,
   "id": "8238d140-6a35-49f6-9f9e-51002b1f3b9a",
   "metadata": {
    "tags": []
   },
   "outputs": [
    {
     "data": {
      "text/plain": [
       "Text(0, 0.5, 'No. of students')"
      ]
     },
     "execution_count": 229,
     "metadata": {},
     "output_type": "execute_result"
    },
    {
     "data": {
      "image/png": "[encoded data removed]",
      "text/plain": [
       "<Figure size 900x500 with 1 Axes>"
      ]
     },
     "metadata": {
      "needs_background": "light"
     },
     "output_type": "display_data"
    }
   ],
   "source": [
    "plt.hist(grades,histtype='bar',label=labels,color='blue')\n",
    "plt.title(\"Grade Distribution\")\n",
    "plt.xlabel(\"Grades\")\n",
    "plt.ylabel(\"No. of students\")"
   ]
  },
  {
   "cell_type": "code",
   "execution_count": 230,
   "id": "4168f708-3147-44e4-b6b4-4795a8181627",
   "metadata": {
    "tags": []
   },
   "outputs": [],
   "source": [
    "import seaborn as sns\n",
    "import matplotlib\n",
    "sns.set_style(\"darkgrid\")\n",
    "matplotlib.rcParams['font.size'] = 14\n",
    "matplotlib.rcParams['figure.figsize'] = (9, 5)\n",
    "matplotlib.rcParams['figure.facecolor'] = '#00000000'"
   ]
  },
  {
   "cell_type": "code",
   "execution_count": 232,
   "id": "10177942-0eda-458f-94c4-0de0aec5ff50",
   "metadata": {
    "tags": []
   },
   "outputs": [
    {
     "data": {
      "text/plain": [
       "Text(31.69444444444445, 0.5, 'No. of students')"
      ]
     },
     "execution_count": 232,
     "metadata": {},
     "output_type": "execute_result"
    },
    {
     "data": {
      "image/png": "[encoded data removed]",
      "text/plain": [
       "<Figure size 500x500 with 1 Axes>"
      ]
     },
     "metadata": {
      "needs_background": "light"
     },
     "output_type": "display_data"
    }
   ],
   "source": [
    "sns.displot(grades,kde=True)\n",
    "plt.xlabel(\"Grades\")\n",
    "plt.ylabel(\"No. of students\")"
   ]
  }
 ],
 "metadata": {
  "kernelspec": {
   "display_name": "Python 3 (ipykernel)",
   "language": "python",
   "name": "python3"
  },
  "language_info": {
   "codemirror_mode": {
    "name": "ipython",
    "version": 3
   },
   "file_extension": ".py",
   "mimetype": "text/x-python",
   "name": "python",
   "nbconvert_exporter": "python",
   "pygments_lexer": "ipython3",
   "version": "3.11.4"
  }
 },
 "nbformat": 4,
 "nbformat_minor": 5
}
